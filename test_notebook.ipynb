{
 "cells": [
  {
   "cell_type": "code",
   "execution_count": 3,
   "metadata": {},
   "outputs": [],
   "source": [
    "import numpy as np\n",
    "import pandas as pd\n",
    "import matplotlib.pyplot as plt\n",
    "import seaborn as sns"
   ]
  },
  {
   "cell_type": "code",
   "execution_count": 1,
   "metadata": {},
   "outputs": [
    {
     "name": "stdout",
     "output_type": "stream",
     "text": [
      "La carpeta ya existe.\n"
     ]
    }
   ],
   "source": [
    "import os\n",
    "import zipfile\n",
    "import gdown\n",
    "\n",
    "# Verificar si la carpeta existe\n",
    "if not os.path.exists('db_speech_enhancement'):\n",
    "    # Descargar archivo desde Google Drive\n",
    "    print(\"La carpeta no existe.\")\n",
    "    url = 'https://drive.google.com/file/d/1lFks-4bBf_lgD8j4Y-8xG5HpmhQehs4d/view?usp=sharing'\n",
    "    nombre_zip = 'db.zip'\n",
    "    \n",
    "    gdown.download(url, nombre_zip, quiet=True,fuzzy=True)\n",
    "    \n",
    "    # Descomprimir archivo zip\n",
    "    with zipfile.ZipFile(nombre_zip, 'r') as zip_ref:\n",
    "        zip_ref.extractall('.')\n",
    "    \n",
    "    # Eliminar el archivo zip\n",
    "    os.remove(nombre_zip)\n",
    "    print(\"Datos Descargados\")\n",
    "else:\n",
    "    print(\"La carpeta ya existe.\")\n"
   ]
  },
  {
   "cell_type": "code",
   "execution_count": 5,
   "metadata": {},
   "outputs": [
    {
     "data": {
      "text/html": [
       "<div>\n",
       "<style scoped>\n",
       "    .dataframe tbody tr th:only-of-type {\n",
       "        vertical-align: middle;\n",
       "    }\n",
       "\n",
       "    .dataframe tbody tr th {\n",
       "        vertical-align: top;\n",
       "    }\n",
       "\n",
       "    .dataframe thead th {\n",
       "        text-align: right;\n",
       "    }\n",
       "</style>\n",
       "<table border=\"1\" class=\"dataframe\">\n",
       "  <thead>\n",
       "    <tr style=\"text-align: right;\">\n",
       "      <th></th>\n",
       "      <th>audio_name</th>\n",
       "      <th>partition</th>\n",
       "      <th>snr</th>\n",
       "    </tr>\n",
       "  </thead>\n",
       "  <tbody>\n",
       "    <tr>\n",
       "      <th>0</th>\n",
       "      <td>af01_018.wav</td>\n",
       "      <td>train</td>\n",
       "      <td>9.769693</td>\n",
       "    </tr>\n",
       "    <tr>\n",
       "      <th>1</th>\n",
       "      <td>cf11_096.wav</td>\n",
       "      <td>train</td>\n",
       "      <td>9.363799</td>\n",
       "    </tr>\n",
       "    <tr>\n",
       "      <th>2</th>\n",
       "      <td>pm24_005.wav</td>\n",
       "      <td>train</td>\n",
       "      <td>2.519448</td>\n",
       "    </tr>\n",
       "    <tr>\n",
       "      <th>3</th>\n",
       "      <td>pf40_068.wav</td>\n",
       "      <td>train</td>\n",
       "      <td>3.437852</td>\n",
       "    </tr>\n",
       "    <tr>\n",
       "      <th>4</th>\n",
       "      <td>nf35_010.wav</td>\n",
       "      <td>train</td>\n",
       "      <td>4.976195</td>\n",
       "    </tr>\n",
       "  </tbody>\n",
       "</table>\n",
       "</div>"
      ],
      "text/plain": [
       "     audio_name partition       snr\n",
       "0  af01_018.wav     train  9.769693\n",
       "1  cf11_096.wav     train  9.363799\n",
       "2  pm24_005.wav     train  2.519448\n",
       "3  pf40_068.wav     train  3.437852\n",
       "4  nf35_010.wav     train  4.976195"
      ]
     },
     "execution_count": 5,
     "metadata": {},
     "output_type": "execute_result"
    }
   ],
   "source": [
    "db_labels = pd.read_csv(\"db_speech_enhancement\\labels.csv\")\n",
    "db_labels.head()"
   ]
  },
  {
   "cell_type": "code",
   "execution_count": 66,
   "metadata": {},
   "outputs": [],
   "source": [
    "#Objetivo funcion: dado un path a un audio, genera como slaida un espectrograma guardado en una matriz numpy\n",
    "import librosa\n",
    "import numpy as np\n",
    "\n",
    "def audio_to_espectro(path_audio):\n",
    "    # Cargar el archivo de audio\n",
    "    y, sr = librosa.load(path_audio)\n",
    "    espectrograma = librosa.stft(y)\n",
    "    magnitud = np.abs(espectrograma) \n",
    "    fase = np.angle(espectrograma)\n",
    "    return np.stack((magnitud, fase), axis=-1)\n",
    "\n",
    "def espectro_to_audio(matriz):\n",
    "    magnitud = matriz[:,:,0]\n",
    "    fase = matriz[:,:,1]\n",
    "    parte_real = magnitud * np.cos(fase)\n",
    "    parte_imaginaria = magnitud * np.sin(fase)\n",
    "    return librosa.istft(parte_real + 1j * parte_imaginaria)\n"
   ]
  },
  {
   "cell_type": "code",
   "execution_count": 75,
   "metadata": {},
   "outputs": [],
   "source": [
    "train_audio_name = db_labels[db_labels['partition'] == 'train']['audio_name']\n",
    "test_audio_name = db_labels[db_labels['partition'] == 'test']['audio_name'] \n",
    "validation_audio_name = db_labels[db_labels['partition'] == 'validation']['audio_name']"
   ]
  },
  {
   "cell_type": "code",
   "execution_count": 96,
   "metadata": {},
   "outputs": [
    {
     "name": "stdout",
     "output_type": "stream",
     "text": [
      "0\n",
      "1\n"
     ]
    },
    {
     "ename": "ValueError",
     "evalue": "could not broadcast input array from shape (1025,181,2) into shape (1025,199,2)",
     "output_type": "error",
     "traceback": [
      "\u001b[1;31m---------------------------------------------------------------------------\u001b[0m",
      "\u001b[1;31mValueError\u001b[0m                                Traceback (most recent call last)",
      "\u001b[1;32mc:\\Users\\marti\\OneDrive\\Escritorio\\Primavera 2023\\Proc. de Voz\\proyecto_proc_voz\\test_notebook.ipynb Cell 6\u001b[0m line \u001b[0;36m5\n\u001b[0;32m      <a href='vscode-notebook-cell:/c%3A/Users/marti/OneDrive/Escritorio/Primavera%202023/Proc.%20de%20Voz/proyecto_proc_voz/test_notebook.ipynb#X30sZmlsZQ%3D%3D?line=2'>3</a>\u001b[0m \u001b[39mfor\u001b[39;00m i \u001b[39min\u001b[39;00m \u001b[39mrange\u001b[39m(n):\n\u001b[0;32m      <a href='vscode-notebook-cell:/c%3A/Users/marti/OneDrive/Escritorio/Primavera%202023/Proc.%20de%20Voz/proyecto_proc_voz/test_notebook.ipynb#X30sZmlsZQ%3D%3D?line=3'>4</a>\u001b[0m     \u001b[39mprint\u001b[39m(i)\n\u001b[1;32m----> <a href='vscode-notebook-cell:/c%3A/Users/marti/OneDrive/Escritorio/Primavera%202023/Proc.%20de%20Voz/proyecto_proc_voz/test_notebook.ipynb#X30sZmlsZQ%3D%3D?line=4'>5</a>\u001b[0m     train_espect_norm[i] \u001b[39m=\u001b[39m audio_to_espectro(\u001b[39mf\u001b[39m\u001b[39m\"\u001b[39m\u001b[39mdb_speech_enhancement/normalized_db/\u001b[39m\u001b[39m{\u001b[39;00mtrain_audio_name[i]\u001b[39m.\u001b[39msplit(\u001b[39m'\u001b[39m\u001b[39m_\u001b[39m\u001b[39m'\u001b[39m)[\u001b[39m0\u001b[39m]\u001b[39m}\u001b[39;00m\u001b[39m/\u001b[39m\u001b[39m{\u001b[39;00mtrain_audio_name[i]\u001b[39m}\u001b[39;00m\u001b[39m\"\u001b[39m)\n",
      "\u001b[1;31mValueError\u001b[0m: could not broadcast input array from shape (1025,181,2) into shape (1025,199,2)"
     ]
    }
   ],
   "source": [
    "n = len(train_audio_name)\n",
    "train_espect_norm = np.empty((n,1025, 199, 2),dtype=np.float32)\n",
    "for i in range(n):\n",
    "    train_espect_norm[i] = audio_to_espectro(f\"db_speech_enhancement/normalized_db/{train_audio_name[i].split('_')[0]}/{train_audio_name[i]}\")"
   ]
  },
  {
   "cell_type": "code",
   "execution_count": 91,
   "metadata": {},
   "outputs": [
    {
     "name": "stdout",
     "output_type": "stream",
     "text": [
      "db_speech_enhancement/normalized_db/af01/af01_018.wav\n",
      "db_speech_enhancement/noise_db/af01/noisy_af01_018.wav\n"
     ]
    }
   ],
   "source": [
    "print(f\"db_speech_enhancement/normalized_db/{train_audio_name[0].split('_')[0]}/{train_audio_name[0]}\")\n",
    "print(f\"db_speech_enhancement/noise_db/{train_audio_name[0].split('_')[0]}/noisy_{train_audio_name[0]}\")"
   ]
  },
  {
   "cell_type": "code",
   "execution_count": 94,
   "metadata": {},
   "outputs": [
    {
     "data": {
      "text/plain": [
       "array([[[ 1.1116228e+01,  0.0000000e+00],\n",
       "        [ 2.0379370e+01,  0.0000000e+00],\n",
       "        [ 2.2310570e+01,  0.0000000e+00],\n",
       "        ...,\n",
       "        [ 2.1234865e+01,  0.0000000e+00],\n",
       "        [ 2.0565031e+01,  0.0000000e+00],\n",
       "        [ 1.2756441e+01,  0.0000000e+00]],\n",
       "\n",
       "       [[ 8.9895382e+00,  2.2170527e+00],\n",
       "        [ 1.2322159e+01,  2.9919727e+00],\n",
       "        [ 1.0965534e+01, -3.1264358e+00],\n",
       "        ...,\n",
       "        [ 1.0766696e+01,  3.1383367e+00],\n",
       "        [ 1.1530623e+01, -3.1001511e+00],\n",
       "        [ 1.0213426e+01, -2.3749857e+00]],\n",
       "\n",
       "       [[ 4.6482668e+00, -1.6169069e+00],\n",
       "        [ 1.8479840e+00,  5.5510473e-01],\n",
       "        [ 4.4608751e-01,  2.6775408e+00],\n",
       "        ...,\n",
       "        [ 7.2825527e-01,  7.2740096e-01],\n",
       "        [ 1.9803572e+00, -1.4900101e+00],\n",
       "        [ 5.3151383e+00,  1.2682636e+00]],\n",
       "\n",
       "       ...,\n",
       "\n",
       "       [[ 7.6389918e-03, -5.5151223e-03],\n",
       "        [ 3.8089000e-03,  3.1360497e+00],\n",
       "        [ 1.6075967e-07, -2.1138394e+00],\n",
       "        ...,\n",
       "        [ 1.8720216e-07, -7.3724455e-01],\n",
       "        [ 3.6987434e-03, -2.8043816e+00],\n",
       "        [ 8.8262921e-03,  3.3722946e-01]],\n",
       "\n",
       "       [[ 7.6389634e-03,  3.1388404e+00],\n",
       "        [ 3.8089473e-03,  1.5680641e+00],\n",
       "        [ 1.2893138e-07,  1.0673333e+00],\n",
       "        ...,\n",
       "        [ 7.9013716e-08,  2.9379833e+00],\n",
       "        [ 3.6987697e-03, -1.4021776e+00],\n",
       "        [ 8.8262977e-03, -2.9729805e+00]],\n",
       "\n",
       "       [[ 7.6389960e-03,  0.0000000e+00],\n",
       "        [ 3.8090365e-03,  0.0000000e+00],\n",
       "        [ 1.0231547e-08,  3.1415927e+00],\n",
       "        ...,\n",
       "        [ 6.1070168e-08,  0.0000000e+00],\n",
       "        [ 3.6988067e-03,  0.0000000e+00],\n",
       "        [ 8.8262958e-03,  0.0000000e+00]]], dtype=float32)"
      ]
     },
     "execution_count": 94,
     "metadata": {},
     "output_type": "execute_result"
    }
   ],
   "source": [
    "(audio_to_espectro(f\"db_speech_enhancement/normalized_db/{train_audio_name[0].split('_')[0]}/{train_audio_name[0]}\"))\n"
   ]
  },
  {
   "cell_type": "code",
   "execution_count": null,
   "metadata": {},
   "outputs": [],
   "source": [
    "#objetivo generar un arreglo de espectorgramas dado un conjunto:\n"
   ]
  }
 ],
 "metadata": {
  "kernelspec": {
   "display_name": "Python 3",
   "language": "python",
   "name": "python3"
  },
  "language_info": {
   "codemirror_mode": {
    "name": "ipython",
    "version": 3
   },
   "file_extension": ".py",
   "mimetype": "text/x-python",
   "name": "python",
   "nbconvert_exporter": "python",
   "pygments_lexer": "ipython3",
   "version": "3.11.3"
  }
 },
 "nbformat": 4,
 "nbformat_minor": 2
}
